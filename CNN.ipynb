{
  "nbformat": 4,
  "nbformat_minor": 0,
  "metadata": {
    "colab": {
      "name": "Untitled0.ipynb",
      "provenance": []
    },
    "kernelspec": {
      "name": "python3",
      "display_name": "Python 3"
    },
    "accelerator": "GPU"
  },
  "cells": [
    {
      "cell_type": "code",
      "metadata": {
        "id": "b7Vbc19vRdOz",
        "colab_type": "code",
        "colab": {}
      },
      "source": [
        "import torch\n",
        "import random\n",
        "import numpy as np\n",
        "import time\n",
        "import matplotlib.pyplot as plt\n",
        "\n",
        "random.seed(0) # фиксирование номера случайной последовательности для воспроизводимости экспериментов\n",
        "np.random.seed(0)\n",
        "torch.manual_seed(0)\n",
        "torch.cuda.manual_seed(0)\n",
        "torch.backends.cudnn.deterministic = True"
      ],
      "execution_count": 0,
      "outputs": []
    },
    {
      "cell_type": "code",
      "metadata": {
        "id": "MbUjscL-SAXf",
        "colab_type": "code",
        "colab": {}
      },
      "source": [
        "import torchvision.datasets"
      ],
      "execution_count": 0,
      "outputs": []
    },
    {
      "cell_type": "code",
      "metadata": {
        "id": "gh0gTTmqSHl4",
        "colab_type": "code",
        "colab": {}
      },
      "source": [
        "MNIST_train = torchvision.datasets.MNIST('./', download=True, train=True)\n",
        "MNIST_test = torchvision.datasets.MNIST('./', download=True, train=False)"
      ],
      "execution_count": 0,
      "outputs": []
    },
    {
      "cell_type": "code",
      "metadata": {
        "id": "GQs-prjbSIgu",
        "colab_type": "code",
        "colab": {}
      },
      "source": [
        "X_train = MNIST_train.train_data\n",
        "y_train = MNIST_train.train_labels\n",
        "X_test = MNIST_test.test_data\n",
        "y_test = MNIST_test.test_labels"
      ],
      "execution_count": 0,
      "outputs": []
    },
    {
      "cell_type": "code",
      "metadata": {
        "id": "ZUpLR6qNSJab",
        "colab_type": "code",
        "colab": {}
      },
      "source": [
        "X_train = X_train.unsqueeze(1).float() # разжимаем картинку, чтобы получить из 28х28 1х28х28, где 1 - это grey-channel\n",
        "X_test = X_test.unsqueeze(1).float()"
      ],
      "execution_count": 0,
      "outputs": []
    },
    {
      "cell_type": "code",
      "metadata": {
        "id": "8hDgOdtiSK1L",
        "colab_type": "code",
        "colab": {}
      },
      "source": [
        "class LeNet5(torch.nn.Module):\n",
        "    def __init__(self):\n",
        "        super(LeNet5, self).__init__()\n",
        "        \n",
        "        self.conv1_1 = torch.nn.Conv2d(\n",
        "            in_channels=1, out_channels=6, kernel_size=3, padding=1)  \n",
        "        self.conv1_2 = torch.nn.Conv2d(\n",
        "            in_channels=6, out_channels=6, kernel_size=3, padding=1) # 2 сверточных слоя с ядрами 3х3, паддингом 1 (дополнительный отступ)\n",
        "        self.act1  = torch.nn.ReLU() # функция активации - ReLU\n",
        "        self.pool1 = torch.nn.MaxPool2d(kernel_size=2, stride=2)\n",
        "       \n",
        "        self.conv2_1 = torch.nn.Conv2d(\n",
        "            in_channels=6, out_channels=16, kernel_size=3, padding=0)\n",
        "        self.conv2_2 = torch.nn.Conv2d(\n",
        "            in_channels=16, out_channels=16, kernel_size=3, padding=0)\n",
        "        self.act2  = torch.nn.ReLU()\n",
        "        self.pool2 = torch.nn.MaxPool2d(kernel_size=2, stride=2)\n",
        "        \n",
        "        self.fc1   = torch.nn.Linear(5 * 5 * 16, 120)\n",
        "        self.act3  = torch.nn.ReLU()\n",
        "        \n",
        "        self.fc2   = torch.nn.Linear(120, 84)\n",
        "        self.act4  = torch.nn.ReLU()\n",
        "        \n",
        "        self.fc3   = torch.nn.Linear(84, 10)\n",
        "    \n",
        "    def forward(self, x):\n",
        "        \n",
        "        x = self.conv1_2(self.conv1_1(x))\n",
        "        x = self.act1(x)\n",
        "        x = self.pool1(x)\n",
        "        \n",
        "        x = self.conv2_2(self.conv2_1(x))\n",
        "        x = self.act2(x)\n",
        "        x = self.pool2(x)\n",
        "        \n",
        "        x = x.view(x.size(0), x.size(1) * x.size(2) * x.size(3))\n",
        "\n",
        "        x = self.fc1(x)\n",
        "        x = self.act3(x)\n",
        "        x = self.fc2(x)\n",
        "        x = self.act4(x)\n",
        "        x = self.fc3(x)\n",
        "        \n",
        "        return x\n",
        "    \n",
        "lenet5 = LeNet5()"
      ],
      "execution_count": 0,
      "outputs": []
    },
    {
      "cell_type": "code",
      "metadata": {
        "id": "DrpuSipxSLrw",
        "colab_type": "code",
        "colab": {}
      },
      "source": [
        "device = torch.device('cuda:0' if torch.cuda.is_available() else 'cpu')  # переносим вычисления на GPU\n",
        "lenet5 = lenet5.to(device)"
      ],
      "execution_count": 0,
      "outputs": []
    },
    {
      "cell_type": "code",
      "metadata": {
        "id": "bk8FZZOgSMox",
        "colab_type": "code",
        "colab": {}
      },
      "source": [
        "loss = torch.nn.CrossEntropyLoss()  # функция потерь бинарная кросс энтропия\n",
        "optimizer = torch.optim.SGD(lenet5.parameters(), lr=0.01, momentum=0.7) # стохастический градиентный спуск"
      ],
      "execution_count": 0,
      "outputs": []
    },
    {
      "cell_type": "code",
      "metadata": {
        "id": "-EVLP4hPSNsZ",
        "colab_type": "code",
        "colab": {}
      },
      "source": [
        "def train(net, X_train, y_train, X_test, y_test):\n",
        "    \n",
        "    batch_size = 100\n",
        "\n",
        "    test_accuracy_history = []\n",
        "    test_loss_history = []\n",
        "    epoch_time_history = []\n",
        "\n",
        "    X_test = X_test.to(device)\n",
        "    y_test = y_test.to(device)\n",
        "\n",
        "    for epoch in range(40):\n",
        "        start = time.time()\n",
        "        order = np.random.permutation(len(X_train))  # случайная перестановка 60 тыс. индексов\n",
        "        for start_index in range(0, len(X_train), batch_size):\n",
        "            optimizer.zero_grad() # обнуление градиента\n",
        "\n",
        "            batch_indexes = order[start_index:start_index+batch_size]\n",
        "\n",
        "            X_batch = X_train[batch_indexes].to(device)\n",
        "            y_batch = y_train[batch_indexes].to(device)\n",
        "\n",
        "            preds = net.forward(X_batch)  # forward 100 (батчевых) образцов через сеть\n",
        "\n",
        "            loss_value = loss(preds, y_batch) # считаем loss\n",
        "            loss_value.backward() # считаем градиент\n",
        "\n",
        "            optimizer.step() # делаем градиентный шаг\n",
        "            \n",
        "        test_preds = net.forward(X_test) # проверка на тестовом множестве после первой эпохи\n",
        "        test_loss_history.append(loss(test_preds, y_test).data.cpu())\n",
        "\n",
        "        accuracy = (test_preds.argmax(dim=1) == y_test).float().mean().data.cpu()\n",
        "        test_accuracy_history.append(accuracy)\n",
        "\n",
        "        finish = time.time()\n",
        "        epoch_time_history.append(finish-start)\n",
        "\n",
        "        print(accuracy, \"Program time: \" + str(finish-start) + \" seconds.\")\n",
        "    return test_accuracy_history, test_loss_history, epoch_time_history\n"
      ],
      "execution_count": 0,
      "outputs": []
    },
    {
      "cell_type": "code",
      "metadata": {
        "id": "gla5NzGNSRtO",
        "colab_type": "code",
        "colab": {}
      },
      "source": [
        "accuracies = {}\n",
        "losses = {}\n",
        "time_history = []\n",
        "accuracies['relu'], losses['relu'], time_history = \\\n",
        "  train(lenet5, X_train, y_train, X_test, y_test)"
      ],
      "execution_count": 0,
      "outputs": []
    },
    {
      "cell_type": "code",
      "metadata": {
        "id": "x8yTZC2cyEmq",
        "colab_type": "code",
        "colab": {}
      },
      "source": [
        "for experiment_id in accuracies.keys():\n",
        "    plt.plot(accuracies[experiment_id], label='Ker 3x3, ReLU, MaxPool')\n",
        "plt.legend()\n",
        "plt.title('Validation Accuracy');"
      ],
      "execution_count": 0,
      "outputs": []
    },
    {
      "cell_type": "code",
      "metadata": {
        "id": "shVQpv9WzKZy",
        "colab_type": "code",
        "colab": {}
      },
      "source": [
        "for experiment_id in losses.keys():\n",
        "    plt.plot(losses[experiment_id], label='Ker 3x3, ReLU, MaxPool')\n",
        "plt.legend()\n",
        "plt.title('Validation Loss');"
      ],
      "execution_count": 0,
      "outputs": []
    },
    {
      "cell_type": "markdown",
      "metadata": {
        "id": "HdDDo1sBG4_r",
        "colab_type": "text"
      },
      "source": [
        "# New Section"
      ]
    },
    {
      "cell_type": "code",
      "metadata": {
        "id": "DM4EUBl20i03",
        "colab_type": "code",
        "colab": {}
      },
      "source": [
        ""
      ],
      "execution_count": 0,
      "outputs": []
    }
  ]
}